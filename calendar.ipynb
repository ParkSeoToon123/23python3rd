{
  "nbformat": 4,
  "nbformat_minor": 0,
  "metadata": {
    "colab": {
      "provenance": [],
      "authorship_tag": "ABX9TyMewjKciuWJmODx5kSE9Jkt",
      "include_colab_link": true
    },
    "kernelspec": {
      "name": "python3",
      "display_name": "Python 3"
    },
    "language_info": {
      "name": "python"
    }
  },
  "cells": [
    {
      "cell_type": "markdown",
      "metadata": {
        "id": "view-in-github",
        "colab_type": "text"
      },
      "source": [
        "<a href=\"https://colab.research.google.com/github/ParkSeoToon123/23python3rd/blob/main/calendar.ipynb\" target=\"_parent\"><img src=\"https://colab.research.google.com/assets/colab-badge.svg\" alt=\"Open In Colab\"/></a>"
      ]
    },
    {
      "cell_type": "code",
      "execution_count": 6,
      "metadata": {
        "colab": {
          "base_uri": "https://localhost:8080/"
        },
        "id": "XrqurWqQY2pa",
        "outputId": "4fe9267a-8efd-49ba-e812-b9664ca3ddc3"
      },
      "outputs": [
        {
          "output_type": "stream",
          "name": "stdout",
          "text": [
            "    October 2023\n",
            "Mo Tu We Th Fr Sa Su\n",
            "                   1\n",
            " 2  3  4  5  6  7  8\n",
            " 9 10 11 12 13 14 15\n",
            "16 17 18 19 20 21 22\n",
            "23 24 25 26 27 28 29\n",
            "30 31\n",
            "\n"
          ]
        }
      ],
      "source": [
        "import calendar\n",
        "yy = 2023     # year\n",
        "mm = 10       # month\n",
        "# display the calendar\n",
        "print(calendar.month(yy,mm))"
      ]
    },
    {
      "cell_type": "markdown",
      "source": [
        "2023년 10월 19일 To Do List\n",
        "- 09:10~11:00 컴퓨팅적사고와 기초코딩\n",
        "- 11:00~12:00 아동건강교육\n",
        "- 12:10~13:00 치과 방문\n",
        "- 13:30~14:00 점심 식사\n",
        "- 14:20~17;00 교양 공부\n",
        "- 17:30~:알바"
      ],
      "metadata": {
        "id": "68Ir-1afasxj"
      }
    },
    {
      "cell_type": "code",
      "source": [
        "print(\"2023년 10월 19일 To Do List\")\n",
        "\n",
        "print(\"09:10 ~ 11:00 컴퓨팅적사고와 기초코딩\")\n",
        "print(\"11:00 ~ 12:00 아동건강교육\")\n",
        "print(\"12:10 ~ 13:00 치과 방문\")\n",
        "print(\"13:30 ~ 14:00 점심 식사\")\n",
        "print(\"14:20 ~ 17;00 교양 공부\")\n",
        "print(\"17:30 ~ :알바\")"
      ],
      "metadata": {
        "colab": {
          "base_uri": "https://localhost:8080/"
        },
        "id": "qxHLZxO_cBPx",
        "outputId": "63c66f27-db87-4a5f-8a47-3da37478ba2a"
      },
      "execution_count": 11,
      "outputs": [
        {
          "output_type": "stream",
          "name": "stdout",
          "text": [
            "2023년 10월 19일 To Do List\n",
            "09:10 ~ 11:00 컴퓨팅적사고와 기초코딩\n",
            "11:00 ~ 12:00 아동건강교육\n",
            "12:10 ~ 13:00 치과 방문\n",
            "13:30 ~ 14:00 점심 식사\n",
            "14:20 ~ 17;00 교양 공부\n",
            "17:30 ~ :알바\n"
          ]
        }
      ]
    }
  ]
}