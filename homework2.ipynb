{
  "nbformat": 4,
  "nbformat_minor": 0,
  "metadata": {
    "colab": {
      "provenance": [],
      "authorship_tag": "ABX9TyMf/KgxR+h7FOKjz2vSbrsx",
      "include_colab_link": true
    },
    "kernelspec": {
      "name": "python3",
      "display_name": "Python 3"
    },
    "language_info": {
      "name": "python"
    }
  },
  "cells": [
    {
      "cell_type": "markdown",
      "metadata": {
        "id": "view-in-github",
        "colab_type": "text"
      },
      "source": [
        "<a href=\"https://colab.research.google.com/github/ParkSeoToon123/23python3rd/blob/main/homework2.ipynb\" target=\"_parent\"><img src=\"https://colab.research.google.com/assets/colab-badge.svg\" alt=\"Open In Colab\"/></a>"
      ]
    },
    {
      "cell_type": "markdown",
      "source": [
        "- print: 파이썬의 내장 함수인 print() 함수를 사용하여 괄호 안에 있는 값을 출력합니다.\n",
        "- \"Hello World\": 큰 따옴표(\")로 둘러싸인 문자열입니다. print() 함수는 괄호 안에 있는 값을 화면에 출력하는데, 이 경우에는 \"Hello World\"라는 문자열이 출력됩니다\n",
        "- 4: 정수형 데이터인 4입니다.\n",
        "- +: 덧셈 연산자로, 두 개의 피연산자를 더하는 연산을 수행합니다.\n",
        "- 4: 정수형 데이터인 4입니다."
      ],
      "metadata": {
        "id": "mrp1R4o2SlER"
      }
    },
    {
      "cell_type": "code",
      "execution_count": null,
      "metadata": {
        "id": "s3C6vUpTRm-m"
      },
      "outputs": [],
      "source": [
        "print(\"Hello World\") # \"Hello World\"를 출력하는 코드입니다.\n",
        "Hello World          # \"Hello World\"라는 문자열\n",
        "\"Hello World\"        # \"Hello World\"라는 문자열\n",
        "'Hello World'        # 'Hello World'라는 문자열\n",
        "4+4                  # 4와 4를 더하는 코드입니다.\n",
        "8                    # 4와 4의 합\n",
        "Hello World          # 'Hello World'라는 문자열"
      ]
    },
    {
      "cell_type": "markdown",
      "source": [
        "- input(): 사용자로부터 값을 입력받는 함수입니다. 괄호 안에는 사용자에게 안내 메시지를 전달할 수 있습니다. 입력받은 값은 문자열 형태로 저장됩니다.\n",
        "- int(): 문자열을 정수형으로 변환하는 함수입니다. 입력받은 값을 정수로 변환하여 처리하기 위해 사용됩니다.\n",
        "- n1, n2, n3: 사용자로부터 입력받은 값을 저장하는 변수입니다.\n",
        "- total: 변수 n1, n2, n3의 값을 더하여 합계를 계산한 결과를 저장하는 변수입니다.\n",
        "- average: 변수 total을 3으로 나누어 평균을 계산한 결과를 저장하는 변수입니다."
      ],
      "metadata": {
        "id": "O5JjvvkqSybd"
      }
    },
    {
      "cell_type": "code",
      "source": [
        "n1 = int(input(\"n1의 값을 입력하시오.:\"))    # 사용자로부터 n1의 값을 입력받아 정수로 변환하여 변수 n1에 저장합니다.\n",
        "n2 = int(input(\"n2의 값을 입력하시오.:\"))    # 사용자로부터 n2의 값을 입력받아 정수로 변환하여 변수 n2에 저장합니다.\n",
        "n3 = int(input(\"n3의 값을 입력하시오.:\"))    # 사용자로부터 n3의 값을 입력받아 정수로 변환하여 변수 n3에 저장합니다.\n",
        "total = n1 + n2 + n3                         # 변수 n1, n2, n3의 값을 더하여 합계를 계산하여 변수 total에 저장합니다.\n",
        "print('합계는 :',total)                      # 합계를 출력합니다.\n",
        "average = total / 3                          # 변수 total을 3으로 나누어 평균을 계산하여 변수 average에 저장합니다.\n",
        "print('평균은:', average)                    # 평균을 출력합니다."
      ],
      "metadata": {
        "id": "lmGqeABRSvrI"
      },
      "execution_count": null,
      "outputs": []
    },
    {
      "cell_type": "markdown",
      "source": [
        "- input(): 사용자로부터 값을 입력받는 함수입니다. 괄호 안에는 사용자에게 안내 메시지를 전달할 수 있습니다. 입력받은 값은 문자열 형태로 저장됩니다.\n",
        "- int(): 문자열을 정수형으로 변환하는 함수입니다. 입력받은 값을 정수로 변환하여 처리하기 위해 사용됩니다.\n",
        "- x, y: 사용자로부터 입력받은 값을 저장하는 변수입니다.\n",
        "- sum: 변수 x와 y의 값을 더하여 합을 계산한 결과를 저장하는 변수입니다.\n",
        "- print(sum): 변수 sum의 값을 출력합니다."
      ],
      "metadata": {
        "id": "12Az5rAWUI0P"
      }
    },
    {
      "cell_type": "code",
      "source": [
        "x = int(input(\"x의 값을 입력하시오.: \"))   # 사용자로부터 x의 값을 입력받아 정수로 변환하여 변수 x에 저장합니다.\n",
        "y = int(input(\"y의 값을 입력하시오.: \"))   # 사용자로부터 y의 값을 입력받아 정수로 변환하여 변수 y에 저장합니다.\n",
        "sum = x + y                                # 변수 x와 y의 값을 더하여 합을 계산하여 변수 sum에 저장합니다.\n",
        "print(sum)                                 # 합을 출력합니다."
      ],
      "metadata": {
        "id": "2XU9dLqSUY-2"
      },
      "execution_count": null,
      "outputs": []
    },
    {
      "cell_type": "markdown",
      "source": [
        "- input(): 사용자로부터 값을 입력받는 함수입니다. 괄호 안에는 사용자에게 안내 메시지를 전달할 수 있습니다. 입력받은 값은 문자열 형태로 저장됩니다.\n",
        "- int(): 문자열을 정수형으로 변환하는 함수입니다. 입력받은 값을 정수로 변환하여 처리하기 위해 사용됩니다.\n",
        "- price: 사용자로부터 입력받은 상품의 가격을 저장하는 변수입니다.\n",
        "- vat: 변수 price에 0.1을 곱하여 부가세를 계산한 결과를 저장하는 변수입니다.\n",
        "- print(f'상품의 가격은 {price}원 이고, 부가세는 {vat}원 입니다.'): f-string을 사용하여 상품의 가격과 부가세를 포맷팅하여 출력합니다. 중괄호 {} 안에 변수나 표현식을 넣으면 해당 값을 문자열에 삽입할 수 있습니다."
      ],
      "metadata": {
        "id": "aMeBb60mU5ad"
      }
    },
    {
      "cell_type": "code",
      "source": [
        "price = int(input(\"상품의 가격을 입력하시오.: \"))                    # 사용자로부터 상품의 가격을 입력받아 정수로 변환하여 변수 price에 저장합니다.\n",
        "vat = price * 0.1                                                    # 변수 price에 0.1을 곱하여 부가세를 계산한 결과를 변수 vat에 저장합니다.\n",
        "print(f'상품의 가격은 {price}원 이고, 부가세는 {vat}원 입니다.')     # 상품의 가격과 부가세를 출력합니다."
      ],
      "metadata": {
        "id": "knVNnnhWU5yK"
      },
      "execution_count": null,
      "outputs": []
    },
    {
      "cell_type": "markdown",
      "source": [
        "- total: 성적의 총합을 저장하는 변수입니다. 초기값으로 0을 할당합니다.\n",
        "- counter: 반복 횟수를 카운트하는 변수입니다. 초기값으로 1을 할당합니다.\n",
        "- while 루프: counter가 10 이하인 동안 반복합니다. 즉, 10번 반복하게 됩니다.\n",
        "- input(): 사용자로부터 값을 입력받는 함수입니다. 괄호 안에는 사용자에게 안내 메시지를 전달할 수 있습니다. 입력받은 값은 문자열 형태로 저장됩니다.\n",
        "- int(): 문자열을 정수형으로 변환하는 함수입니다. 입력받은 값을 정수로 변환하여 처리하기 위해 사용됩니다.\n",
        "- grade: 사용자로부터 입력받은 성적을 저장하는 변수입니다.\n",
        "- total = grade + total: 입력받은 성적을 total 변수에 더하여 총합을 계산합니다.\n",
        "- counter = counter + 1: 반복 횟수를 1씩 증가시킵니다.\n",
        "- average = total // 10: 총합을 10으로 나누어 평균을 계산하여 변수 average에 저장합니다.\n",
        "- print(average): 평균을 출력합니다."
      ],
      "metadata": {
        "id": "f6Dl1HkxVrWv"
      }
    },
    {
      "cell_type": "code",
      "source": [
        "# 10명의 성적을 입력을 받아 평균을 내는 프로그램을 만든다.\n",
        "# 반복문과 조건문을 사용한다.\n",
        "# 변수는 total, counter, grade, average\n",
        "total = 0                                             # 변수 total은 0으로 선언하였다.\n",
        "counter = 1                                           # 변수 counter은 1로 선언하였다.\n",
        "while counter <= 10 :                                 # 반복문 while을 사용하여 counter가 10보다 작거나 같을 때 다음 내부문장으로 넘어간다.\n",
        "    grade = int(input(\"성적을 입력하시오.: \"))        # 변수 grade에 int(정수형 변환)와 사용자로부터 입력을 받는 input을 사용하여 점수를 받는다.\n",
        "    total = grade + total                             # 변수 total에 성적 grade와 변수 total을 합한 값을 선언한다.\n",
        "    counter = counter + 1                             # 변수 counter은 초기 선언한 counter의 값에 실행할 때마다 1씩 추가된다.\n",
        "average = total // 10                                 # 변수 average에 반복문에서 계산한 total값을 10으로 나눈다.\n",
        "print(average)                                        # 변수 average를 출력한다.\n",
        "# write by 박서윤"
      ],
      "metadata": {
        "id": "CG6ct50iVr1y"
      },
      "execution_count": null,
      "outputs": []
    },
    {
      "cell_type": "markdown",
      "source": [
        "- import calendar: calendar 모듈을 현재 파이썬 환경에 임포트합니다. 이를 통해 달력 관련 기능을 사용할 수 있습니다.\n",
        "- yy: 연도를 나타내는 변수입니다. 위의 코드에서는 2023을 할당하였습니다.\n",
        "- mm: 월을 나타내는 변수입니다. 위의 코드에서는 10을 할당하였습니다.\n",
        "- calendar.month(yy, mm): calendar 모듈의 month() 함수를 사용하여 해당 연도와 월에 해당하는 달력을 출력합니다. 이 함수는 문자열 형태로 달력을 반환합니다.\n",
        "- print(calendar.month(yy, mm)): calendar.month() 함수의 결과를 출력합니다."
      ],
      "metadata": {
        "id": "bJyiB637WfTc"
      }
    },
    {
      "cell_type": "code",
      "source": [
        "import calendar                # calendar 모듈을 임포트합니다.\n",
        "yy = 2023                      # year   # 연도를 나타내는 변수 yy에 2023을 할당합니다.\n",
        "mm = 10                        # month    # 월을 나타내는 변수 mm에 10을 할당합니다.\n",
        "# display the calendar\n",
        "print(calendar.month(yy,mm))   # calendar.month() 함수를 사용하여 해당 연도와 월에 해당하는 달력을 출력합니다."
      ],
      "metadata": {
        "id": "afQwqf38Wfqz"
      },
      "execution_count": null,
      "outputs": []
    },
    {
      "cell_type": "markdown",
      "source": [
        "- print(\"2023년 10월 19일 To Do List\"): \"2023년 10월 19일 To Do List\"라는 문구를 출력합니다. 이는 해당 날짜의 할 일 목록을 나타내는 제목입니다.\n",
        "- print(\"09:10 ~ 11:00 컴퓨팅적사고와 기초코딩\"): \"09:10 ~ 11:00 컴퓨팅적사고와 기초코딩\"이라는 문구를 출력합니다. 이는 09시 10분부터 11시까지의 시간 동안 \"컴퓨팅적 사고와 기초 코딩\" 과목을 공부하는 것을 나타냅니다.\n",
        "- print(\"11:00 ~ 12:00 아동건강교육\"): \"11:00 ~ 12:00 아동건강교육\"이라는 문구를 출력합니다. 이는 11시부터 12시까지의 시간 동안 \"아동건강교육\"을 진행하는 것을 나타냅니다.\n",
        "- print(\"12:10 ~ 13:00 치과 방문\"): \"12:10 ~ 13:00 치과 방문\"이라는 문구를 출력합니다. 이는 12시 10분부터 13시까지의 시간 동안 \"치과 방문\"을 하는 것을 나타냅니다.\n",
        "- print(\"13:30 ~ 14:00 점심 식사\"): \"13:30 ~ 14:00 점심 식사\"라는 문구를 출력합니다. 이는 13시 30분부터 14시까지의 시간 동안 점심을 식사하는 것을 나타냅니다.\n",
        "- print(\"14:20 ~ 17:00 교양 공부\"): \"14:20 ~ 17:00 교양 공부\"라는 문구를 출력합니다. 이는 14시 20분부터 17시까지의 시간 동안 \"교양 공부\"를 하는 것을 나타냅니다.\n",
        "- print(\"17:30 ~ 알바\"): \"17:30 ~ 알바\"라는 문구를 출력합니다. 이는 17시 30분부터 \"알바\"를 시작하는 것을 나타냅니다."
      ],
      "metadata": {
        "id": "9dc-T_kRX9Wt"
      }
    },
    {
      "cell_type": "code",
      "source": [
        "print(\"2023년 10월 19일 To Do List\")             # \"2023년 10월 19일 To Do List\"를 출력합니다.\n",
        "\n",
        "print(\"09:10 ~ 11:00 컴퓨팅적사고와 기초코딩\")   # \"09:10 ~ 11:00 컴퓨팅적사고와 기초코딩\"을 출력합니다.\n",
        "print(\"11:00 ~ 12:00 아동건강교육\")              # \"11:00 ~ 12:00 아동건강교육\"을 출력합니다.\n",
        "print(\"12:10 ~ 13:00 치과 방문\")                 # \"12:10 ~ 13:00 치과 방문\"을 출력합니다.\n",
        "print(\"13:30 ~ 14:00 점심 식사\")                 # \"13:30 ~ 14:00 점심 식사\"를 출력합니다.\n",
        "print(\"14:20 ~ 17;00 교양 공부\")                 # \"14:20 ~ 17;00 교양 공부\"를 출력합니다.\n",
        "print(\"17:30 ~ :알바\")                           # \"17:30 ~ :알바\"를 출력합니다."
      ],
      "metadata": {
        "id": "Km3tfoCdX9kx"
      },
      "execution_count": null,
      "outputs": []
    },
    {
      "cell_type": "markdown",
      "source": [
        "- price = int(input(\"구입금액 입력: \")): input() 함수를 사용하여 사용자로부터 구입금액을 입력받습니다. 입력받은 값을 int() 함수를 사용하여 정수형으로 변환한 후, 변수 price에 저장합니다.\n",
        "- if price >= 100000:: 만약 구입금액이 100,000원 이상이면 아래의 코드 블록을 실행합니다. 이 부분은 가장 먼저 확인하는 조건문입니다.\n",
        "- shipping_cost = 0: 배송료 변수 shipping_cost에 0을 할당합니다. 구입금액이 100,000원 이상이므로 배송료는 0원입니다.\n",
        "- else:: 만약 구입금액이 100,000원 미만인 경우에는 아래의 코드 블록을 실행합니다.\n",
        "- if price >= 20000:: 만약 구입금액이 20,000원 이상인 경우에는 아래의 코드 블록을 실행합니다.\n",
        "- shipping_cost = 3000: 배송료 변수 shipping_cost에 3,000을 할당합니다. 구입금액이 20,000원 이상이므로 배송료는 3,000원입니다.\n",
        "- else:: 그렇지 않고, 구입금액이 20,000원 미만인 경우에는 아래의 코드 블록을 실행합니다.\n",
        "- shipping_cost = 5000: 배송료 변수 shipping_cost에 5,000을 할당합니다. 구입금액이 20,000원 미만이므로 배송료는 5,000원입니다.\n",
        "- print(f'배송료는 {shipping_cost}원 입니다.'): 배송료를 출력합니다. f-string을 사용하여 배송료 변수 shipping_cost의 값을 출력합니다. 출력되는 문구는 \"배송료는 [배송료값]원 입니다.\" 형식입니다."
      ],
      "metadata": {
        "id": "naIl7p1fZK_9"
      }
    },
    {
      "cell_type": "code",
      "source": [
        "price = int(input(\"구입금액 입력: \"))          # 변수 price 사용자가 정수형 구입금액 입력합니다.\n",
        "if price >= 100000:                            # price의 값이 10만원보다 크거나 같으면\n",
        "  shipping_cost = 0                            # 배송료(shipping_cost)는 0원입니다.\n",
        "else:                                          # 그게 아니면\n",
        "  if price >= 20000:                           # 선택2. price값이 2만원보다 크거나 같으면\n",
        "    shipping_cost = 3000                       # 배송료(shipping_cost)는 3000원입니다.\n",
        "  else:                                        # 그것도 아니면\n",
        "    shipping_cost = 5000                       # 선택3. 배송료(shipping_cost)는 5000원입니다.\n",
        "print(f'배송료는 {shipping_cost}원 입니다.')   # F-String문자 Format으로 최종 배송료출력합니다."
      ],
      "metadata": {
        "id": "c06Rc5k-ZLhL"
      },
      "execution_count": null,
      "outputs": []
    },
    {
      "cell_type": "markdown",
      "source": [
        "print(\"환영합니다.\"): print() 함수를 사용하여 \"환영합니다.\"라는 메시지를 출력합니다. 이 부분이 5번 반복되므로 \"환영합니다.\"라는 메시지가 총 5번 출력됩니다."
      ],
      "metadata": {
        "id": "7Nlg5eN8aLla"
      }
    },
    {
      "cell_type": "code",
      "source": [
        "print(\"환영합니다.\")   # \"환영합니다.\"라는 메시지를 출력합니다.\n",
        "print(\"환영합니다.\")   # \"환영합니다.\"라는 메시지를 출력합니다.\n",
        "print(\"환영합니다.\")   # \"환영합니다.\"라는 메시지를 출력합니다.\n",
        "print(\"환영합니다.\")   # \"환영합니다.\"라는 메시지를 출력합니다.\n",
        "print(\"환영합니다.\")   # \"환영합니다.\"라는 메시지를 출력합니다."
      ],
      "metadata": {
        "id": "zL8GS0l8aL3Q"
      },
      "execution_count": null,
      "outputs": []
    },
    {
      "cell_type": "markdown",
      "source": [
        "- print(\"환영합니다.\\n\" * 5): print() 함수를 사용하여 \"환영합니다.\\n\"라는 메시지를 5번 반복해서 출력합니다. 여기서 \\n은 줄바꿈을 나타내는 이스케이프 시퀀스입니다.\n",
        "- 따라서 위의 코드는 \"환영합니다.\"라는 메시지를 5번 반복해서 출력하고, 각 메시지 사이에 줄바꿈이 적용됩니다"
      ],
      "metadata": {
        "id": "evmi5W7Madlu"
      }
    },
    {
      "cell_type": "code",
      "source": [
        "print(\"환영합니다.\\n\" * 5) # \"환영합니다.\"라는 메시지를 5번 줄바꿈 하여 출력합니다."
      ],
      "metadata": {
        "id": "IBO994boag11"
      },
      "execution_count": null,
      "outputs": []
    },
    {
      "cell_type": "markdown",
      "source": [
        "- count = 1: count라는 변수를 선언하고 초기값을 1로 설정합니다. 이 변수는 반복문의 조건을 체크하고, 반복 횟수를 카운트하는 역할을 합니다.\n",
        "- while count <= 5:: count가 5 이하일 때까지 반복하는 while 반복문입니다. 이 조건이 만족될 때 아래의 코드 블록이 실행됩니다.\n",
        "- print(\"(\", count, \")\", \"환영합니다.\"): print() 함수를 사용하여 \"(\", count, \")\", \"환영합니다.\"라는 메시지를 출력합니다. count 변수의 값은 각 반복마다 변화하며, 현재 반복 횟수를 나타냅니다.\n",
        "- count = count + 1: count 변수의 값을 1씩 증가시킵니다. 이는 반복문이 한 번 실행될 때마다 count 변수의 값을 증가시켜 다음 반복에서의 조건을 체크하는데 사용됩니다."
      ],
      "metadata": {
        "id": "vMT53xPYbPQi"
      }
    },
    {
      "cell_type": "code",
      "source": [
        "count = 1                                  # 변수 count는 1로 선언합니다.\n",
        "while count <= 5:                          # 변수 count가 5이하일 때까지\n",
        "  print(\"(\", count, \")\", \"환영합니다.\")    # \"환영합니다.\"를 반복하여 출력합니다.\n",
        "  count = count + 1                        # 변수 count 값을 1씩 증가시킵니다."
      ],
      "metadata": {
        "id": "yQF06NZ6bPjz"
      },
      "execution_count": null,
      "outputs": []
    },
    {
      "cell_type": "markdown",
      "source": [
        "- x = 0: x라는 변수를 선언하고 초기값을 0으로 설정합니다. 이 변수는 반복문을 통해 출력할 숫자를 나타내는 역할을 합니다.\n",
        "- while x < 10:: x가 10보다 작을 때까지 반복하는 while 반복문입니다. 이 조건이 만족될 때 아래의 코드 블록이 실행됩니다.\n",
        "- print(x, end=' '): print() 함수를 사용하여 x의 값을 출력합니다. end=' '는 출력 후 줄바꿈 대신에 공백을 사용하도록 설정하는 부분입니다.\n",
        "- x = x + 1: x 변수의 값을 1씩 증가시킵니다"
      ],
      "metadata": {
        "id": "hN09r_Vpb5Jj"
      }
    },
    {
      "cell_type": "code",
      "source": [
        "x = 0                 # 변수 x는 0으로 선언한다.\n",
        "while x < 10:         # 변수 x가 10보다 작을 때까지\n",
        "  print(x, end=' ')   # 변수 x 값을 공백을 두고 출력합니다.\n",
        "  x = x + 1           # 변수 x 값을 1씩 증가시킵니다."
      ],
      "metadata": {
        "id": "CFvQU35Yb5bR"
      },
      "execution_count": null,
      "outputs": []
    },
    {
      "cell_type": "markdown",
      "source": [
        "- x = 1: x라는 변수를 선언하고 초기값을 1로 설정합니다. 이 변수는 반복문을 통해 출력할 숫자를 나타내는 역할을 합니다.\n",
        "- while x <= 9:: x가 9보다 작거나 같을 때까지 반복하는 while 반복문입니다. 이 조건이 만족될 때 아래의 코드 블록이 실행됩니다.\n",
        "- print(x, end=' '): print() 함수를 사용하여 x의 값을 출력합니다. end=' '는 출력 후 줄바꿈 대신에 공백을 사용하도록 설정하는 부분입니다.\n",
        "- x += 1: x 변수의 값을 1씩 증가시킵니다. x += 1은 x = x + 1과 동일한 의미로, x 변수의 값을 1 증가시키는 역할을 합니다."
      ],
      "metadata": {
        "id": "OyU0ODZ9dQ4N"
      }
    },
    {
      "cell_type": "code",
      "source": [
        "x = 1                  # 변수 x는 1로 선언합니다.\n",
        "while x <= 9:          # 변수 x4가 9보다 작거나 같을 때까지\n",
        "  print(x, end=' ')    # 변수 x 값을 공백을 두고 출력합니다.\n",
        "  x+= 1                # 변수 x 값을 1씩 증가시킵니다."
      ],
      "metadata": {
        "id": "GyLKrF6cdRKd"
      },
      "execution_count": null,
      "outputs": []
    },
    {
      "cell_type": "markdown",
      "source": [
        "- x = 1: 변수 x를 1로 초기화합니다. 이 변수는 반복문에서 사용될 숫자를 나타냅니다.\n",
        "- total = 0: 변수 total을 0으로 초기화합니다. 이 변수는 숫자들의 합을 저장하기 위한 변수입니다.\n",
        "- while x <= 10:: x가 10 이하인 동안 반복하는 while 반복문입니다. 이 조건이 만족될 때 아래의 코드 블록이 실행됩니다.\n",
        "- total += x: total 변수에 x 값을 더하여 결과를 total에 할당합니다. 이를 통해 x 변수에 있는 숫자들을 하나씩 더해가며 합을 계산합니다.\n",
        "- x += 1: x 변수의 값을 1씩 증가시킵니다. 이를 통해 반복문이 진행될 때마다 x 변수의 값이 1씩 증가하게 됩니다.\n",
        "- print(total): 반복문이 종료된 후, 변수 total에 저장된 숫자들의 합을 출력합니다."
      ],
      "metadata": {
        "id": "FWF0ePAnTkXy"
      }
    },
    {
      "cell_type": "code",
      "source": [
        "x = 1              # 변수 x를 1로 선언합니다.\n",
        "total = 0          # 변수 x를 0으로 선언합니다.\n",
        "while x <= 10:     # 변수 x가 10보다 작거나 같을 때까지 반복합니다.\n",
        "  total += x       # total 변수에 x 값을 더합니다.\n",
        "  #total = total + 1\n",
        "  #x = x + 1\n",
        "  x += 1           # x 값을 1 증가시킵니다.\n",
        "print(total)       # total 변수의 값을 출력합니다."
      ],
      "metadata": {
        "id": "hw1M_sj7ToPM"
      },
      "execution_count": null,
      "outputs": []
    },
    {
      "cell_type": "markdown",
      "source": [
        "- for num in range(1, 21):: range(1, 21)은 1부터 20까지의 숫자 범위를 나타내는 함수입니다. for 반복문을 사용하여 num 변수에 1부터 20까지의 숫자를 하나씩 대입합니다.\n",
        "- if num % 3 == 0:: num을 3으로 나눈 나머지가 0인지 확인하는 조건문입니다. num이 3의 배수인 경우에만 아래의 코드 블록이 실행됩니다.\n",
        "- print(\"박수\", end=' '): num이 3의 배수일 경우 \"박수\"라는 문자열을 출력합니다. - end=' '는 출력 후 줄바꿈 대신에 공백을 사용하여 다음 출력과 연결합니다.\n",
        "- else:: if 조건문의 조건이 만족되지 않을 경우 실행되는 부분입니다.\n",
        "- print(num, end=' '): num이 3의 배수가 아닐 경우 num 값을 출력합니다. end=' '는 출력 후 줄바꿈 대신에 공백을 사용하여 다음 출력과 연결합니다."
      ],
      "metadata": {
        "id": "ODfERSzm3j2s"
      }
    },
    {
      "cell_type": "code",
      "source": [
        "for num in range(1, 21):     # 1부터 20까지의 숫자를 반복하여 처리합니다.\n",
        "  if num % 3 == 0:           # 현재 숫자가 3으로 나누어 떨어지는지 확인합니다.\n",
        "    print(\"박수\", end=' ')   # 3으로 나누어 떨어지는 경우 “박수”를 출력하고 공백으로 끝을 나타냅니다.\n",
        "  else:                      # 3으로 나누어 떨어지지 않는 경우 현재 숫자를 출력하고 공백으로 끝을 나타냅니다.\n",
        "    print(num, end=' ')      # 변수 num의 값을 출력하고, 출력 후 줄바꿈 대신에 공백을 사용하여 다음을 출력합니다."
      ],
      "metadata": {
        "id": "RJ4PdZLqzKIi"
      },
      "execution_count": null,
      "outputs": []
    },
    {
      "cell_type": "markdown",
      "source": [
        "- num = 1: 변수 num을 1로 초기화합니다. 이 변수는 반복문에서 사용될 숫자를 나타냅니다.\n",
        "- while num <= 20:: num이 20 이하인 동안 반복하는 while 반복문입니다. 이 조건이 만족될 때 아래의 코드 블록이 실행됩니다.\n",
        "- if num % 3 == 0:: num을 3으로 나눈 나머지가 0인지 확인하는 조건문입니다. num이 3의 배수인 경우에만 아래의 코드 블록이 실행됩니다.\n",
        "- print(\"박수\", end=' '): num이 3의 배수일 경우 \"박수\"라는 문자열을 출력합니다. - end=' '는 출력 후 줄바꿈 대신에 공백을 사용하여 다음 출력과 연결합니다.\n",
        "- else:: if 조건문의 조건이 만족되지 않을 경우 실행되는 부분입니다.\n",
        "- print(num, end=' '): num이 3의 배수가 아닐 경우 num 값을 출력합니다. end=' '는 출력 후 줄바꿈 대신에 공백을 사용하여 다음 출력과 연결합니다.\n",
        "- num += 1: num 변수의 값을 1씩 증가시킵니다. 이를 통해 반복문이 진행될 때마다 num 변수의 값이 1씩 증가하게 됩니다."
      ],
      "metadata": {
        "id": "pZHcsi6p4IOW"
      }
    },
    {
      "cell_type": "code",
      "source": [
        "num = 1                       # 초기값으로 1을 지정합니다.\n",
        "while num <=20:               # 변수 num이 20 이하인 동안 반복합니다.\n",
        "  if num % 3 == 0:            # 현재 숫자가 3으로 나누어 떨어지는지 확인합니다.\n",
        "    print(\"박수\", end=' ')    # 3으로 나누어 떨어지는 경우 “박수”를 출력하고 공백으로 끝을 나타냅니다.\n",
        "  else:                       # 3으로 나누어 떨어지지 않는 경우 현재 숫자를 출력하고 공백으로 끝을 나타냅니다.\n",
        "    print(num, end=' ')       # 변수 num의 값을 출력하고, 출력 후 줄바꿈 대신에 공백을 사용하여 다음을 출력합니다.\n",
        "  num += 1                    # 변수 num에 1을 더하여 다음 숫자로 이동합니다."
      ],
      "metadata": {
        "id": "DYL3XWqW0MlP"
      },
      "execution_count": null,
      "outputs": []
    },
    {
      "cell_type": "markdown",
      "source": [
        "- i = 5: 초기값으로 i 변수에 5를 할당합니다.\n",
        "- factorial = 1: 초기값으로 factorial 변수에 1을 할당합니다.\n",
        "- while i >= 1:: i가 1 이상인 동안 반복합니다.\n",
        "- factorial *= i: 현재 i 값을 factorial에 곱하여 factorial 값을 업데이트합니다.\n",
        "- i -= 1: i를 1 감소시켜 다음 값을 계산할 수 있도록 합니다.\n",
        "- print(factorial): 최종적으로 계산된 factorial 값을 출력합니다."
      ],
      "metadata": {
        "id": "pzynsNJv4j0y"
      }
    },
    {
      "cell_type": "code",
      "source": [
        "i = 5             # 초기값으로 5를 설정합니다.\n",
        "factorial = 1     # 초기값으로 1을 설정합니다.\n",
        "while i >= 1:     # 변수 i가 1 이상인 동안 반복합니다.\n",
        "  factorial *= i  # 현재 i 값을 factorial에 곱하여 factorial 값을 업데이트합니다.\n",
        "  i -= 1          # i를 감소시켜 다음 값을 계산할 수 있도록 합니다.\n",
        "print(factorial)  # factorial 값을 출력합니다."
      ],
      "metadata": {
        "id": "GFKx7oJp0hes"
      },
      "execution_count": null,
      "outputs": []
    },
    {
      "cell_type": "markdown",
      "source": [
        "- num = int(input(\"팩토리얼을 계산할 숫자를 입력하시오.: \")): 사용자로부터 \"팩토리얼을 계산할 숫자를 입력하시오.\"라는 메시지를 출력하고, 입력된 값을 정수로 변환하여 num 변수에 저장합니다.\n",
        "- factorial = 1: 초기값으로 factorial 변수에 1을 할당합니다.\n",
        "- while num >= 1:: num이 1 이상인 동안 반복합니다.\n",
        "- factorial = factorial * num: 현재 num 값을 factorial에 곱하여 factorial 값을 업데이트합니다.\n",
        "- num -= 1: num을 1 감소시켜 다음 값을 계산할 수 있도록 합니다.\n",
        "- print(f'계산된 팩토리얼 값은 {factorial} 입니다.'): 최종적으로 계산된 factorial 값을 출력합니다."
      ],
      "metadata": {
        "id": "bEbk8Zu95PWE"
      }
    },
    {
      "cell_type": "code",
      "source": [
        "# 계산할 숫자를 입력받습니다.\n",
        "num = int(input(\"팩토리얼을 계산할 숫자를 입력하시오.: \"))\n",
        "\n",
        "# 초기값으로 1을 설정합니다.\n",
        "factorial = 1\n",
        "\n",
        "# 팩토리얼 계산을 위한 반복문인 while 입니다.\n",
        "while num >=1:                # num값이 1보다 크거나 같을 때 하위 문장(코드)를 진행\n",
        "  factorial = factorial * num # 현재 num값을 factorial값에 곱해줍니다.\n",
        "  num -= 1\n",
        "\n",
        "print(f'계산된 팩토리얼 값은 {factorial} 입니다.')"
      ],
      "metadata": {
        "id": "QCe73E9601sx"
      },
      "execution_count": null,
      "outputs": []
    },
    {
      "cell_type": "markdown",
      "source": [
        "- dan = int(input(\"구구단에서 몇 단을 출력할까요: \")): 사용자로부터 \"구구단에서 몇 단을 출력할까요?\"라는 메시지를 출력하고, 입력된 값을 정수로 변환하여 dan 변수에 저장합니다.\n",
        "- for i in range(1, 10):: 1부터 9까지 반복하는 반복문입니다.\n",
        "- print(dan, \"x\", i, \"=\", dan * i): dan 변수와 i 변수를 곱한 값을 \"dan x i = dan * i\" 형식으로 출력합니다. 이를 통해 구구단의 계산식을 출력합니다."
      ],
      "metadata": {
        "id": "RhUijevV5QK1"
      }
    },
    {
      "cell_type": "code",
      "source": [
        "# for문 사용\n",
        "dan = int(input(\"구구단에서 몇단을 출력할까요: \"))    # 사용자로부터 구구단을 몇 단 출력할지 입력받습니다.\n",
        "for i in range(1,10):                                 # 1부터 9까지 반복하는 for문을 사용하여 구구단을 출력합니다.\n",
        "  print(dan, \"x\", i, \"=\", dan * i)                    # 구구단의 각 계산식을 출력합니다."
      ],
      "metadata": {
        "id": "NWtNmWfK0_dd"
      },
      "execution_count": null,
      "outputs": []
    },
    {
      "cell_type": "markdown",
      "source": [
        "- dan = int(input(\"구구단에서 몇 단을 출력할까요: \")): 사용자로부터 \"구구단에서 몇 단을 출력할까요?\"라는 메시지를 출력하고, 입력된 값을 정수로 변환하여 dan 변수에 저장합니다.\n",
        "- i = 1: 초기값으로 i 변수에 1을 할당합니다.\n",
        "- while i <= 9:: i가 9 이하인 동안 반복합니다.\n",
        "- print(dan, \"x\", i, \"=\", dan * i): dan 변수와 i 변수를 곱한 값을 \"dan x i = dan * i\" 형식으로 출력합니다. 이를 통해 구구단의 계산식을 출력합니다.\n",
        "- i += 1: i를 1 증가시켜 다음 값을 계산할 수 있도록 합니다."
      ],
      "metadata": {
        "id": "xOMhoGFc5RCm"
      }
    },
    {
      "cell_type": "code",
      "source": [
        "#while문 사용\n",
        "dan = int(input(\"구구단에서 몇단을 출력할까요: \"))       # 사용자로부터 구구단을 몇 단 출력할지 입력받습니다.\n",
        "i = 1                                                    # 초기값으로 1을 설정합니다.\n",
        "while i <= 9:                                            # i가 9이하인 동안 반복합니다.\n",
        "    print(dan, \"x\", i, \"=\", dan * i)                     # 변수 num의 값을 출력하고, 출력 후 줄바꿈 대신에 공백을 사용하여 다음을 출력합니다.\n",
        "    i += 1                                               # i를 1 증가시켜 다음 값을 계산할 수 있도록 합니다."
      ],
      "metadata": {
        "id": "bLknV3n_1KSy"
      },
      "execution_count": null,
      "outputs": []
    },
    {
      "cell_type": "markdown",
      "source": [
        "- print(\"상품의 가격을 입력하시오.\"): \"상품의 가격을 입력하시오.\" 메시지를 출력합니다.\n",
        "- price = int(input(\"구입금액 입력: \")): 사용자로부터 구입금액을 입력받고, 입력된 값을 정수로 변환하여 price 변수에 저장합니다.\n",
        "- if price > 20000:: 만약 구입금액이 2만원 이상이면 아래의 코드 블록을 실행합니다.\n",
        "- shipping_cost = 0: 배송비를 0으로 설정합니다.\n",
        "- print(f'구입금액이 2만원 이상입니다.'): \"구입금액이 2만원 이상입니다.\" 메시지를 출력합니다.\n",
        "- else:: 그렇지 않은 경우 (구입금액이 2만원 이하인 경우) 아래의 코드 블록을 실행합니다.\n",
        "- shipping_cost = 3000: 배송비를 3000으로 설정합니다.\n",
        "- print(f'구입금액이 2만원 이하입니다.'): \"구입금액이 2만원 이하입니다.\" 메시지를 출력합니다.\n",
        "- print(f'회원님의 배송비는 {shipping_cost}원 입니다.'): \"회원님의 배송비는 {shipping_cost}원 입니다.\" 메시지를 출력합니다. shipping_cost 변수에 저장된 배송비를 출력합니다."
      ],
      "metadata": {
        "id": "bo5wP97fAP7r"
      }
    },
    {
      "cell_type": "code",
      "source": [
        "print(\"상품의 가격을 입력하시오.\");                       # \"상품의 가격을 입력하시오.\"를 출력합니다.\n",
        "price = int(input(\"구입금액 입력.: \"));                   # 사용자로부터 구입금액을 입력받아 정수로 변환합니다.\n",
        "if price > 20000:                                         # 만약 가격이 2만원 이상이면\n",
        "  shipping_cost = 0                                       # 배송비를 0으로 설정합니다.\n",
        "  print(f'구입금액이 2만원 이상입니다.')                  # '구입금액이 2만원 이상입니다.'를 출력합니다\n",
        "else:                                                     # 만약 가격이 2만원 이하이면\n",
        "  shipping_cost = 3000                                    # 배송비를 3000으로 설정합니다.\n",
        "  print(f'구입금액이 2만원 이하입니다.')                  # '구입금액이 2만원 이하입니다.'를 출력합니다.\n",
        "print(f'회원님의 배송비는 {shipping_cost}원 입니다.')     # '회원님의 배송비는 {shipping_cost}원 입니다.'를 출력합니다."
      ],
      "metadata": {
        "id": "DL7i-K2L7ATl"
      },
      "execution_count": null,
      "outputs": []
    },
    {
      "cell_type": "markdown",
      "source": [
        "- print(\"성적을 입력하시오.\"): \"성적을 입력하시오.\" 메시지를 출력합니다.\n",
        "- grade = int(input(\"성적 입력: \")): 사용자로부터 성적을 입력받고, 입력된 값을 정수로 변환하여 grade 변수에 저장합니다.\n",
        "- if grade >= 70:: 만약 성적이 70점 이상이면 아래의 코드 블록을 실행합니다.\n",
        "- print(f'70점 이상이므로 합격입니다.'): \"70점 이상이므로 합격입니다.\" 메시지를 출력합니다.\n",
        "- print(\"축하합니다. 합격입니다.\"): \"축하합니다. 합격입니다.\" 메시지를 출력합니다.\n",
        "- else:: 그렇지 않은 경우 (성적이 70점 미만인 경우) 아래의 코드 블록을 실행합니다.\n",
        "- print(f'70점 이하이므로 불합격입니다.'): \"70점 이하이므로 불합격입니다.\" 메시지를 출력합니다.\n",
        "- print(\"아쉽군요. 다시 한 번 도전하세요.\"): \"아쉽군요. 다시 한 번 도전하세요.\" 메시지를 출력합니다."
      ],
      "metadata": {
        "id": "RLkqVL_6AQoR"
      }
    },
    {
      "cell_type": "code",
      "source": [
        "print(\"성적을 입력하시오.\")                    # “성적을 입역하시오.”를 출력합니다.\n",
        "grade = int(input(\"성적 입력: \"))              # 사용자로부터 성적을 입력받아 정수로 변환합니다.\n",
        "if grade >= 70:                                # 만약 성적이 70 이상이면\n",
        "  print(f'70점 이상이므로 합격입니다.')        # '70점 이상이므로 합격입니다.'를 출력합니다.\n",
        "  print(\"축하합니다. 합격입니다.\")             # \"축하합니다. 합격입니다.\"를 출력합니다.\n",
        "else:                                          # 만약 성적이 70점 미만이면\n",
        "  print(f'70점 이하이므로 불합격입니다.')      # '70점 이하이므로 불합격입니다.'를 출력합니다.\n",
        "  print(\"아쉽군요. 다시 한 번 도전하세요.\")    # \"아쉽군요. 다시 한 번 도전하세.\"를 출력합니다."
      ],
      "metadata": {
        "id": "UZ4tVu5y7s4x"
      },
      "execution_count": null,
      "outputs": []
    },
    {
      "cell_type": "markdown",
      "source": [
        "- print(\"근무시간을 입력하시오.\"): \"근무시간을 입력하시오.\" 메시지를 출력합니다.\n",
        "- work_hour = int(input(\"근무시간 입력: \")): 사용자로부터 근무시간을 입력받고, 입력된 값을 정수로 변환하여 work_hour 변수에 저장합니다.\n",
        "- if work_hour > 72:: 만약 근무시간이 72시간을 초과한다면 아래의 코드 블록을 실행합니다.\n",
        "- \"####################\" 메시지를 출력하여 구분선을 생성합니다.\n",
        "- '# 초과근무 입니다. #' 메시지를 출력합니다.\n",
        "- \"####################\" 메시지를 출력하여 구분선을 생성합니다.\n",
        "- else:: 그렇지 않은 경우 (근무시간이 72시간 이하인 경우) 아래의 코드 블록을 실행합니다.\n",
        "- \"####################\" 메시지를 출력하여 구분선을 생성합니다.\n",
        "- '# 정상근무 입니다. #' 메시지를 출력합니다.\n",
        "- \"####################\" 메시지를 출력하여 구분선을 생성합니다."
      ],
      "metadata": {
        "id": "ox_qMXFHASFc"
      }
    },
    {
      "cell_type": "code",
      "source": [
        "print(\"근무시간을 입력하시오.\")           # “근무시간을 입력하시오.”를 출력합니다.\n",
        "work_hour = int(input(\"근무시간 입력: \")) # 사용자로부터 근무시간을 입력받아 정수로 변환합니다.\n",
        "if work_hour > 72:                        # 만약 근무시간이 72시간 이상이면\n",
        "  print(\"#\"*20 )                          # \"#\"을 20번 반복하여 출력합니다.\n",
        "  print('# 초과근무 입니다. #')           # '# 초과근무 입니다. #'를 출력합니다.\n",
        "  print(\"#\"*20 )                          # \"#\"을 20번 반복하여 출력합니다.\n",
        "else:                                     # 만약 근무시간이 72시간 미만이면 정상근무 메세지를 출력합니다.\n",
        "  print(\"#\"*20 )                          # \"#\"을 20번 반복하여 출력합니다.\n",
        "  print('# 정상근무 입니다. #')           # '# 정상근무 입니다. #'를 출력합니다.\n",
        "  print(\"#\"*20 )                          # \"#\"을 20번 반복하여 출력합니다."
      ],
      "metadata": {
        "id": "LoHD5u_l7tHD"
      },
      "execution_count": null,
      "outputs": []
    },
    {
      "cell_type": "markdown",
      "source": [
        "- print(\"정수를 입력하시오.\"): \"정수를 입력하시오.\" 메시지를 출력합니다.\n",
        "- _num_ = int(input(\"정수 입력: \")): 사용자로부터 정수를 입력받고, 입력된 값을 정수로 변환하여 _num_ 변수에 저장합니다.\n",
        "- if (_num_ % 2) != 0:: 만약 _num_을 2로 나눈 나머지가 0이 아니라면 (즉, 홀수인 경우) 아래의 코드 블록을 실행합니다.\n",
        "- print(f'입력하신 {_num_}은 홀수입니다.'): \"입력하신 {num}은 홀수입니다.\" 메시지를 출력합니다.\n",
        "- else:: 그렇지 않은 경우 (짝수인 경우) 아래의 코드 블록을 실행합니다.\n",
        "- print(f'입력하신 {_num_}은 짝수입니다.'): \"입력하신 {num}은 짝수입니다.\" 메시지를 출력합니다."
      ],
      "metadata": {
        "id": "Xgy1HJSMASw6"
      }
    },
    {
      "cell_type": "code",
      "source": [
        "print(\"정수를 입력하시오.\")                    #“정수를 입력하시오.”를 출력합니다.\n",
        "_num_ = int(input(\"정수 입력: \"))              # 사용자로부터 정수를 입력받아 정수로 변환합니다.\n",
        "if (_num_ % 2) != 0:                           # # _num_을 2로 나눈 나머지가 0이 아니면 (홀수이면)\n",
        "  print(f'입력하신 {_num_}은 홀수입니다.')     # '입력하신 {_num_}은 홀수입니다.'를 출력합니다.\n",
        "else:                                          # 그게 아니면\n",
        "  print(f'입력하신 {_num_}은 짝수입니다.')     # '입력하신 {_num_}은 짝수입니다.'를 출력합니다."
      ],
      "metadata": {
        "id": "--veLGhx7tSQ"
      },
      "execution_count": null,
      "outputs": []
    },
    {
      "cell_type": "markdown",
      "source": [
        "- print(\"나이를 입력하시오\"): \"나이를 입력하시오\" 메시지를 출력합니다.\n",
        "- name = input(\"이름 입력: \"): 사용자로부터 이름을 입력받고, 입력된 값을 name 변수에 저장합니다.\n",
        "- age = int(input(\"나이 입력: \")): 사용자로부터 나이를 입력받고, 입력된 값을 정수로 변환하여 age 변수에 저장합니다.\n",
        "- if age < 20:: 만약 나이가 20보다 작다면 아래의 코드 블록을 실행합니다.\n",
        "- print(f'프로그래밍을 배우는 최적의 나이입니다.'): \"프로그래밍을 배우는 최적의 나이입니다.\" 메시지를 출력합니다.\n",
        "- else:: 그렇지 않은 경우 (나이가 20 이상인 경우) 아래의 코드 블록을 실행합니다.\n",
        "- print(f'아직도 늦지 않았습니다.'): \"아직도 늦지 않았습니다.\" 메시지를 출력합니다.\n"
      ],
      "metadata": {
        "id": "lu21XQdZATmI"
      }
    },
    {
      "cell_type": "code",
      "source": [
        "print(\"나이를 입력하시오\")                          # “나이를 입력하시오”를 출력합니다.\n",
        "name = input(\"이름 입력: \")                         # 사용자로부터 이름을 입력받아 변수 name에 저장합니다.\n",
        "age = int(input(\"나이 입력: \"))                     # 사용자로부터 나이을 입력받아 정수로 변환하여 변수 age에 저장합니다.\n",
        "if age < 20:                                        # 만약 나이가 20살 이상이면\n",
        "  print(f'프로그래밍을 배우는 최적의 나이입니다.')  # '프로그래밍을 배우는 최적의 나이입니다.'를 출력합니다.\n",
        "else:                                               # 만약 나이가 20살 미만이면\n",
        "  print(f'아직도 늦지 않았습니다.')                 # '아직도 늦지 않았습니다.'를 출력합니다."
      ],
      "metadata": {
        "id": "sz1bB7Yw7tdd"
      },
      "execution_count": null,
      "outputs": []
    },
    {
      "cell_type": "markdown",
      "source": [
        "- hours_worked = int(input(\"일한 시간을 입력하시오.: \")): 사용자로부터 일한 시간을 입력받고, 정수로 변환하여 hours_worked 변수에 저장합니다.\n",
        "- pay_rate = int(input(\"시급을 입력하시오.(23년 시급 9620): \")): 사용자로부터 시급을 입력받고, 정수로 변환하여 pay_rate 변수에 저장합니다.\n",
        "- day_worked = int(input(\"일한 날짜를 입력하시오. : \")): 사용자로부터 일한 날짜를 입력받고, 정수로 변환하여 day_worked 변수에 저장합니다.\n",
        "- day_month = hours_worked * day_worked: 일한 시간과 일한 날짜를 곱하여 총 근무 시간을 계산하여 day_month 변수에 저장합니다.\n",
        "- monthly_pay = hours_worked * pay_rate * day_worked: 일한 시간, 시급, 일한 날짜를 곱하여 월급을 계산하여 monthly_pay 변수에 저장합니다.\n",
        "- print(f'일한 시간은 {hours_worked}시간 이며, 시급은 {pay_rate}원 이고, 월급여는 {monthly_pay}원 입니다.'): 일한 시간, 시급, 월급을 출력하는 메시지를 출력합니다."
      ],
      "metadata": {
        "id": "9G_oEpK6DU0Z"
      }
    },
    {
      "cell_type": "code",
      "source": [
        "hours_worked = int(input(\"일한 시간을 입력하시오.: \"))                                                        # “일한 시간을 입력하시오.: ”를 출력합니다.\n",
        "pay_rate = int(input(\"시급을 입력하시오.(23년 시급 9620): \"))                                                 # ”시급을 입력하시오.(23년 시급 9620): “을 출력합니다.\n",
        "day_worked = int(input(\"일한 날짜를 입력하시오. : \"))                                                         # “일한 날짜를 입력하시오. :”을 출력합니다.\n",
        "day_month = hours_worked * day_worked                                                                         # 일한 날짜에 따른 총 근무 일수를 계산합니다.\n",
        "monthly_pay = hours_worked * pay_rate * day_worked                                                            # 일한 시간에 시급과 일한 날짜를 곱하여 월급여로 변환합니다.\n",
        "print(f'일한 시간은 {hours_worked}시간 이며, 시급은 {pay_rate}원 이고, 월급여는 {monthly_pay}원 입니다.')     # 일한 시간, 시급, 월급여를 입력합니다."
      ],
      "metadata": {
        "id": "0oMQo98xB2wa"
      },
      "execution_count": null,
      "outputs": []
    },
    {
      "cell_type": "markdown",
      "source": [
        "- usd = int(input(\"환전할 달러를 입력: \")): 사용자로부터 환전할 달러를 입력받고, 정수로 변환하여 usd 변수에 저장합니다.\n",
        "- won = int(input(\"달러의 환율금액 입력(231031 : 1372원)\")): 사용자로부터 달러의 환율금액을 입력받고, 정수로 변환하여 won 변수에 저장합니다.\n",
        "- exchange = won * usd: 환율과 환전할 달러를 곱하여 환전 금액을 계산하여 exchange 변수에 저장합니다.\n",
        "- print(f'환전하고 싶은 {usd}달러는 환율 {won}원으로 계산해서, {exchange}원입니다.'): 환전하고 싶은 달러와 환율을 출력하고, 계산된 환전 금액을 출력하는 메시지를 출력합니다."
      ],
      "metadata": {
        "id": "zrrPgrz7DVfS"
      }
    },
    {
      "cell_type": "code",
      "source": [
        "usd = int(input(\"환전할 달러를 입력: \"))                                              # “환전할 달러을 입력: ”을 출력합니다.\n",
        "won = int(input(\"달러의 환율금액 입력(231031 : 1372원)\"))                             # “달러의 환율금액 입력(231031 : 1372원)”을 출력합니다.\n",
        "exchange = won * usd                                                                  # 환전할 달러를 환율금액으로 곱하여 원화로 변환합니다.\n",
        "print(f'환전하고 싶은 {usd}달러는 환율 {won}원으로 계산해서, {exchange}원입니다.')    # 환전하고 싶은 달러와 환율금액으로 계산된 원화를 출력합니다."
      ],
      "metadata": {
        "id": "G4KAwktKB28m"
      },
      "execution_count": null,
      "outputs": []
    },
    {
      "cell_type": "markdown",
      "source": [
        "- fahrenheit = int(input(\"화씨를 입력하시오.: \")): 사용자로부터 화씨를 입력받고, 정수로 변환하여 fahrenheit 변수에 저장합니다.\n",
        "- celsius = (fahrenheit - 32) / 1.8: 입력받은 화씨를 섭씨로 변환하여 celsius 변수에 저장합니다. 변환 공식은 (화씨 - 32) / 1.8입니다.\n",
        "- print(celsius): 변환된 섭씨를 출력합니다."
      ],
      "metadata": {
        "id": "Jh05NYINDVu4"
      }
    },
    {
      "cell_type": "code",
      "source": [
        "fahrenheit = int(input(\"화씨를 입력하시오.: \"))   # “화씨를 입력하시오.:”를 출력합니다.\n",
        "celsius = (fahrenheit - 32) / 1.8                 # 입력된 화씨를 섭씨로 변환하여 계산합니다.\n",
        "print(celsius)                                    # 변환된 섭씨를 출력합니다."
      ],
      "metadata": {
        "id": "109689d3B3Dz"
      },
      "execution_count": null,
      "outputs": []
    },
    {
      "cell_type": "markdown",
      "source": [
        "- celsius = float(input(\"섭씨를 입력하시오.: \")): 사용자로부터 섭씨를 입력받고, 실수로 변환하여 celsius 변수에 저장합니다.\n",
        "- fahrenheit = celsius * 1.8 + 32: 입력받은 섭씨를 화씨로 변환하여 fahrenheit 변수에 저장합니다. 변환 공식은 섭씨 * 1.8 + 32입니다.\n",
        "- print(fahrenheit): 변환된 화씨를 출력합니다."
      ],
      "metadata": {
        "id": "gD5ivQa3DXcg"
      }
    },
    {
      "cell_type": "code",
      "source": [
        "celsius = float(input(\"섭씨를 입력하시오.: \"))    # “섭씨를 입력하시오.:“를 출력합니다.\n",
        "fahrenheit = celsius * 1.8 + 32                   # 입력된 섭씨를 화씨로 변환하여 계산합니다.\n",
        "print(fahrenheit)                                 # 변환된 화씨를 출력합니다."
      ],
      "metadata": {
        "id": "YnfClAI0B3Oy"
      },
      "execution_count": null,
      "outputs": []
    }
  ]
}