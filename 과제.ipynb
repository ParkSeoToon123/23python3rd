{
  "nbformat": 4,
  "nbformat_minor": 0,
  "metadata": {
    "colab": {
      "provenance": [],
      "authorship_tag": "ABX9TyPRIK1IeO/8tEdTNCNzhQru",
      "include_colab_link": true
    },
    "kernelspec": {
      "name": "python3",
      "display_name": "Python 3"
    },
    "language_info": {
      "name": "python"
    }
  },
  "cells": [
    {
      "cell_type": "markdown",
      "metadata": {
        "id": "view-in-github",
        "colab_type": "text"
      },
      "source": [
        "<a href=\"https://colab.research.google.com/github/ParkSeoToon123/23python3rd/blob/main/%EA%B3%BC%EC%A0%9C.ipynb\" target=\"_parent\"><img src=\"https://colab.research.google.com/assets/colab-badge.svg\" alt=\"Open In Colab\"/></a>"
      ]
    },
    {
      "cell_type": "markdown",
      "source": [
        "1. 사용자로부터 2개의 정수를 받아서 합계를 출력하는 코드\n",
        "- x\n",
        "- y"
      ],
      "metadata": {
        "id": "A9K5A8m6E7zA"
      }
    },
    {
      "cell_type": "code",
      "execution_count": 1,
      "metadata": {
        "colab": {
          "base_uri": "https://localhost:8080/"
        },
        "id": "Ake9Wra6E6uL",
        "outputId": "3905d88b-f6ae-4669-d8e3-50b6954cc880"
      },
      "outputs": [
        {
          "output_type": "stream",
          "name": "stdout",
          "text": [
            "x의 값을 입력하시오.: 20\n",
            "y의 값을 입력하시오.: 30\n",
            "50\n"
          ]
        }
      ],
      "source": [
        "x = int(input(\"x의 값을 입력하시오.: \"))\n",
        "y = int(input(\"y의 값을 입력하시오.: \"))\n",
        "sum = x + y\n",
        "print(sum)"
      ]
    },
    {
      "cell_type": "markdown",
      "source": [
        "2. 부가세를 계산하여 출력하는 코드\n",
        "- 상품의 가격(price)\n",
        "- 부가세(vat)"
      ],
      "metadata": {
        "id": "FcHgSeZKF8UL"
      }
    },
    {
      "cell_type": "code",
      "source": [
        "price = int(input(\"상품의 가격을 입력하시오.: \"))\n",
        "vat = price * 0.1\n",
        "print(f'상품의 가격은 {price}원 이고, 부가세는 {vat}원 입니다.')"
      ],
      "metadata": {
        "colab": {
          "base_uri": "https://localhost:8080/"
        },
        "id": "Fzg6oErTF7Pf",
        "outputId": "45b15e64-6397-4416-92b4-dcb19da46ea7"
      },
      "execution_count": 2,
      "outputs": [
        {
          "output_type": "stream",
          "name": "stdout",
          "text": [
            "상품의 가격을 입력하시오.: 15400\n",
            "상품의 가격은 15400원 이고, 부가세는 1540.0원 입니다.\n"
          ]
        }
      ]
    }
  ]
}